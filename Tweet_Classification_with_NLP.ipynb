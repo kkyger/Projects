{
 "cells": [
  {
   "cell_type": "markdown",
   "metadata": {
    "application/vnd.databricks.v1+cell": {
     "cellMetadata": {
      "byteLimit": 2048000,
      "rowLimit": 10000
     },
     "inputWidgets": {},
     "nuid": "5a4f3030-5b2b-4c2b-a6aa-9df2320a7271",
     "showTitle": false,
     "title": ""
    }
   },
   "source": [
    "# About\n",
    "\n",
    "This notebook utilizes Natural Language Processing to classifiy whether tweets are about a disaster or not.\n",
    "\n",
    "Data taken from Kaggle - Natural Language Processing with Disaster Tweets"
   ]
  },
  {
   "cell_type": "code",
   "execution_count": 0,
   "metadata": {
    "application/vnd.databricks.v1+cell": {
     "cellMetadata": {
      "byteLimit": 2048000,
      "rowLimit": 10000
     },
     "inputWidgets": {},
     "nuid": "4e359330-29d3-44e8-b474-f28ec5dd2bcc",
     "showTitle": false,
     "title": ""
    }
   },
   "outputs": [],
   "source": [
    "\n",
    "import os\n",
    "import sys\n",
    "\n",
    "sys.stdout = open(os.devnull, 'w')\n",
    "sys.stderr = open(os.devnull, 'w')\n",
    "\n",
    "!pip install pip --upgrade\n",
    "!pip install keras-core --upgrade\n",
    "!pip install -q keras-nlp --upgrade\n",
    "!pip install tensorflow\n",
    "\n",
    "sys.stdout = sys.__stdout__\n",
    "sys.stderr = sys.__stderr__\n",
    "\n",
    "os.environ['KERAS_BACKEND'] = 'tensorflow'"
   ]
  },
  {
   "cell_type": "code",
   "execution_count": 0,
   "metadata": {
    "application/vnd.databricks.v1+cell": {
     "cellMetadata": {
      "byteLimit": 2048000,
      "rowLimit": 10000
     },
     "inputWidgets": {},
     "nuid": "4cb655a9-9b9f-4c48-85e0-202672c73d8e",
     "showTitle": false,
     "title": ""
    }
   },
   "outputs": [],
   "source": [
    "import pandas as pd\n",
    "import tensorflow as tf\n",
    "import keras_core as keras\n",
    "import keras_nlp\n",
    "from sklearn.metrics import ConfusionMatrixDisplay, confusion_matrix\n",
    "from pyspark.sql.types import BooleanType, StringType, ArrayType, StructType, StructField, DoubleType\n",
    "import re\n",
    "import string\n",
    "\n",
    "from pyspark.sql.functions import col, udf, lower, split, when\n",
    "\n",
    "from nltk.corpus import stopwords, words\n",
    "import nltk\n",
    "from nltk.stem import PorterStemmer, WordNetLemmatizer\n",
    "from nltk import pos_tag, ne_chunk\n",
    "\n",
    "from pyspark.ml.feature import HashingTF, IDF, Tokenizer, StringIndexer, VectorAssembler, CountVectorizer\n",
    "from pyspark.ml.classification import LogisticRegression, RandomForestClassifier\n",
    "from pyspark.ml import Pipeline\n",
    "from pyspark.ml.evaluation import MulticlassClassificationEvaluator\n",
    "from pyspark.ml.tuning import ParamGridBuilder, CrossValidator\n",
    "\n",
    "import matplotlib.pyplot as plt\n",
    "import seaborn as sns\n",
    "from sklearn.metrics import confusion_matrix"
   ]
  },
  {
   "cell_type": "code",
   "execution_count": 0,
   "metadata": {
    "application/vnd.databricks.v1+cell": {
     "cellMetadata": {
      "byteLimit": 2048000,
      "rowLimit": 10000
     },
     "inputWidgets": {},
     "nuid": "7d2aa28b-f839-47e3-bc97-42d4f92c671b",
     "showTitle": false,
     "title": ""
    }
   },
   "outputs": [],
   "source": [
    "train_file_path = \"default.nlp_train_8_csv\"\n",
    "test_file_path = \"default.nlp_test_6_csv\""
   ]
  },
  {
   "cell_type": "code",
   "execution_count": 0,
   "metadata": {
    "application/vnd.databricks.v1+cell": {
     "cellMetadata": {
      "byteLimit": 2048000,
      "rowLimit": 10000
     },
     "inputWidgets": {},
     "nuid": "d4336213-1878-4e8f-895b-f768afa754f9",
     "showTitle": false,
     "title": ""
    }
   },
   "outputs": [],
   "source": [
    "# Load data and remove the nulls\n",
    "train_df = spark.table(train_file_path).filter(col('text').isNotNull()).filter(col('target').isNotNull())\n",
    "test_df = spark.table(test_file_path).filter(col('text').isNotNull())"
   ]
  },
  {
   "cell_type": "code",
   "execution_count": 0,
   "metadata": {
    "application/vnd.databricks.v1+cell": {
     "cellMetadata": {
      "byteLimit": 2048000,
      "rowLimit": 10000
     },
     "inputWidgets": {},
     "nuid": "7b5c5b00-bc07-4b7a-bf14-ba9dfcc1cb23",
     "showTitle": false,
     "title": ""
    }
   },
   "outputs": [
    {
     "output_type": "display_data",
     "data": {
      "text/html": [
       "<style scoped>\n",
       "  .table-result-container {\n",
       "    max-height: 300px;\n",
       "    overflow: auto;\n",
       "  }\n",
       "  table, th, td {\n",
       "    border: 1px solid black;\n",
       "    border-collapse: collapse;\n",
       "  }\n",
       "  th, td {\n",
       "    padding: 5px;\n",
       "  }\n",
       "  th {\n",
       "    text-align: left;\n",
       "  }\n",
       "</style><div class='table-result-container'><table class='table-result'><thead style='background-color: white'><tr><th>id</th><th>keyword</th><th>location</th><th>text</th><th>target</th></tr></thead><tbody><tr><td>1</td><td>null</td><td>null</td><td>Our Deeds are the Reason of this #earthquake May ALLAH Forgive us all</td><td>1</td></tr><tr><td>4</td><td>null</td><td>null</td><td>Forest fire near La Ronge Sask. Canada</td><td>1</td></tr><tr><td>5</td><td>null</td><td>null</td><td>All residents asked to 'shelter in place' are being notified by officers. No other evacuation or shelter in place orders are expected</td><td>1</td></tr><tr><td>6</td><td>null</td><td>null</td><td>13,000 people receive #wildfires evacuation orders in California </td><td>1</td></tr><tr><td>7</td><td>null</td><td>null</td><td>Just got sent this photo from Ruby #Alaska as smoke from #wildfires pours into a school </td><td>1</td></tr><tr><td>8</td><td>null</td><td>null</td><td>#RockyFire Update => California Hwy. 20 closed in both directions due to Lake County fire - #CAfire #wildfires</td><td>1</td></tr><tr><td>10</td><td>null</td><td>null</td><td>#flood #disaster Heavy rain causes flash flooding of streets in Manitou, Colorado Springs areas</td><td>1</td></tr><tr><td>13</td><td>null</td><td>null</td><td>I'm on top of the hill and I can see a fire in the woods...</td><td>1</td></tr><tr><td>14</td><td>null</td><td>null</td><td>There's an emergency evacuation happening now in the building across the street</td><td>1</td></tr><tr><td>15</td><td>null</td><td>null</td><td>I'm afraid that the tornado is coming to our area...</td><td>1</td></tr><tr><td>16</td><td>null</td><td>null</td><td>Three people died from the heat wave so far</td><td>1</td></tr><tr><td>17</td><td>null</td><td>null</td><td>Haha South Tampa is getting flooded hah- WAIT A SECOND I LIVE IN SOUTH TAMPA WHAT AM I GONNA DO WHAT AM I GONNA DO FVCK #flooding</td><td>1</td></tr><tr><td>18</td><td>null</td><td>null</td><td>#raining #flooding #Florida #TampaBay #Tampa 18 or 19 days. I've lost count </td><td>1</td></tr><tr><td>19</td><td>null</td><td>null</td><td>#Flood in Bago Myanmar #We arrived Bago</td><td>1</td></tr><tr><td>20</td><td>null</td><td>null</td><td>Damage to school bus on 80 in multi car crash #BREAKING </td><td>1</td></tr><tr><td>23</td><td>null</td><td>null</td><td>What's up man?</td><td>0</td></tr><tr><td>24</td><td>null</td><td>null</td><td>I love fruits</td><td>0</td></tr><tr><td>25</td><td>null</td><td>null</td><td>Summer is lovely</td><td>0</td></tr><tr><td>26</td><td>null</td><td>null</td><td>My car is so fast</td><td>0</td></tr><tr><td>28</td><td>null</td><td>null</td><td>What a goooooooaaaaaal!!!!!!</td><td>0</td></tr></tbody></table></div>"
      ]
     },
     "metadata": {
      "application/vnd.databricks.v1+output": {
       "addedWidgets": {},
       "aggData": [],
       "aggError": "",
       "aggOverflow": false,
       "aggSchema": [],
       "aggSeriesLimitReached": false,
       "aggType": "",
       "arguments": {},
       "columnCustomDisplayInfos": {},
       "data": [
        [
         "1",
         null,
         null,
         "Our Deeds are the Reason of this #earthquake May ALLAH Forgive us all",
         "1"
        ],
        [
         "4",
         null,
         null,
         "Forest fire near La Ronge Sask. Canada",
         "1"
        ],
        [
         "5",
         null,
         null,
         "All residents asked to 'shelter in place' are being notified by officers. No other evacuation or shelter in place orders are expected",
         "1"
        ],
        [
         "6",
         null,
         null,
         "13,000 people receive #wildfires evacuation orders in California ",
         "1"
        ],
        [
         "7",
         null,
         null,
         "Just got sent this photo from Ruby #Alaska as smoke from #wildfires pours into a school ",
         "1"
        ],
        [
         "8",
         null,
         null,
         "#RockyFire Update => California Hwy. 20 closed in both directions due to Lake County fire - #CAfire #wildfires",
         "1"
        ],
        [
         "10",
         null,
         null,
         "#flood #disaster Heavy rain causes flash flooding of streets in Manitou, Colorado Springs areas",
         "1"
        ],
        [
         "13",
         null,
         null,
         "I'm on top of the hill and I can see a fire in the woods...",
         "1"
        ],
        [
         "14",
         null,
         null,
         "There's an emergency evacuation happening now in the building across the street",
         "1"
        ],
        [
         "15",
         null,
         null,
         "I'm afraid that the tornado is coming to our area...",
         "1"
        ],
        [
         "16",
         null,
         null,
         "Three people died from the heat wave so far",
         "1"
        ],
        [
         "17",
         null,
         null,
         "Haha South Tampa is getting flooded hah- WAIT A SECOND I LIVE IN SOUTH TAMPA WHAT AM I GONNA DO WHAT AM I GONNA DO FVCK #flooding",
         "1"
        ],
        [
         "18",
         null,
         null,
         "#raining #flooding #Florida #TampaBay #Tampa 18 or 19 days. I've lost count ",
         "1"
        ],
        [
         "19",
         null,
         null,
         "#Flood in Bago Myanmar #We arrived Bago",
         "1"
        ],
        [
         "20",
         null,
         null,
         "Damage to school bus on 80 in multi car crash #BREAKING ",
         "1"
        ],
        [
         "23",
         null,
         null,
         "What's up man?",
         "0"
        ],
        [
         "24",
         null,
         null,
         "I love fruits",
         "0"
        ],
        [
         "25",
         null,
         null,
         "Summer is lovely",
         "0"
        ],
        [
         "26",
         null,
         null,
         "My car is so fast",
         "0"
        ],
        [
         "28",
         null,
         null,
         "What a goooooooaaaaaal!!!!!!",
         "0"
        ]
       ],
       "datasetInfos": [],
       "dbfsResultPath": null,
       "isJsonSchema": true,
       "metadata": {},
       "overflow": false,
       "plotOptions": {
        "customPlotOptions": {},
        "displayType": "table",
        "pivotAggregation": null,
        "pivotColumns": null,
        "xColumns": null,
        "yColumns": null
       },
       "removedWidgets": [],
       "schema": [
        {
         "metadata": "{}",
         "name": "id",
         "type": "\"string\""
        },
        {
         "metadata": "{}",
         "name": "keyword",
         "type": "\"string\""
        },
        {
         "metadata": "{}",
         "name": "location",
         "type": "\"string\""
        },
        {
         "metadata": "{}",
         "name": "text",
         "type": "\"string\""
        },
        {
         "metadata": "{}",
         "name": "target",
         "type": "\"string\""
        }
       ],
       "type": "table"
      }
     },
     "output_type": "display_data"
    }
   ],
   "source": [
    "display(train_df.limit(20))"
   ]
  },
  {
   "cell_type": "code",
   "execution_count": 0,
   "metadata": {
    "application/vnd.databricks.v1+cell": {
     "cellMetadata": {
      "byteLimit": 2048000,
      "rowLimit": 10000
     },
     "inputWidgets": {},
     "nuid": "a72126d3-6649-427d-9c32-bf8ad76f3888",
     "showTitle": false,
     "title": ""
    }
   },
   "outputs": [],
   "source": [
    "# Download NLTK resources\n",
    "nltk.download('stopwords')\n",
    "nltk.download('wordnet')\n",
    "nltk.download('averaged_perceptron_tagger')\n",
    "nltk.download('words')\n",
    "\n",
    "# Initialize stopwords, lemmatizer, and word list\n",
    "stop_words = set(stopwords.words('english'))\n",
    "lemmatizer = WordNetLemmatizer()\n",
    "word_list = set(words.words())\n",
    "\n",
    "# Broadcast stopwords and word list\n",
    "broadcast_stop_words = spark.sparkContext.broadcast(stop_words)\n",
    "broadcast_word_list = spark.sparkContext.broadcast(word_list)"
   ]
  },
  {
   "cell_type": "markdown",
   "metadata": {
    "application/vnd.databricks.v1+cell": {
     "cellMetadata": {
      "byteLimit": 2048000,
      "rowLimit": 10000
     },
     "inputWidgets": {},
     "nuid": "23f3cd3d-2428-4ed0-86ab-a6347ff2df93",
     "showTitle": false,
     "title": ""
    }
   },
   "source": [
    "# Clean Data"
   ]
  },
  {
   "cell_type": "code",
   "execution_count": 0,
   "metadata": {
    "application/vnd.databricks.v1+cell": {
     "cellMetadata": {
      "byteLimit": 2048000,
      "rowLimit": 10000
     },
     "inputWidgets": {},
     "nuid": "b80f2f22-edd9-447d-bf8a-f5a2a041ad0c",
     "showTitle": false,
     "title": ""
    }
   },
   "outputs": [],
   "source": [
    "class data_cleaning():\n",
    "    def __init__(self, broadcast_stop_words, broadcast_word_list):\n",
    "        self.stop_words = broadcast_stop_words.value\n",
    "        self.lemmatizer = WordNetLemmatizer()\n",
    "        self.word_list = broadcast_word_list.value\n",
    "    \n",
    "    def contains_url(self, text):\n",
    "        url_pattern = re.compile(r'http[s]?://')\n",
    "        return bool(url_pattern.search(text))\n",
    "    \n",
    "    def remove_urls(self, text):\n",
    "        url_pattern = re.compile(r'http[s]?://\\S+')\n",
    "        return url_pattern.sub('', text)\n",
    "    \n",
    "    # Remove the pound sign from the hashtags, but find the words within the hashtag\n",
    "    def split_hashtag(self, hashtag):\n",
    "        def segment(text, word_list):\n",
    "            n = len(text)\n",
    "            dp = [None] * (n + 1)\n",
    "            dp[0] = []\n",
    "            for i in range(1, n + 1):\n",
    "                for j in range(i):\n",
    "                    word = text[j:i].lower()\n",
    "                    if word in word_list and dp[j] is not None:\n",
    "                        if dp[i] is None or len(dp[j]) + 1 < len(dp[i]):\n",
    "                            dp[i] = dp[j] + [word]\n",
    "            return dp[-1] if dp[-1] is not None else [text]\n",
    "\n",
    "        words = hashtag.split()\n",
    "        result = []\n",
    "        for word in words:\n",
    "            if word.startswith(\"#\"):\n",
    "                word = word[1:]\n",
    "                split_words_in_tag = segment(word, self.word_list)\n",
    "                result.append(\" \".join(split_words_in_tag))\n",
    "            else:\n",
    "                result.append(word)\n",
    "        return \" \".join(result)\n",
    "\n",
    "    def process_text(self, text):\n",
    "        hashtag_pattern = re.compile(r'#\\w+')\n",
    "        hashtags = hashtag_pattern.findall(text)\n",
    "        text = hashtag_pattern.sub('', text)\n",
    "        processed_hashtags = \" \".join([self.split_hashtag(tag) for tag in hashtags])\n",
    "        return text + \" \" + processed_hashtags\n",
    "    \n",
    "    def remove_punctuation(self, text):\n",
    "        return text.translate(str.maketrans('', '', string.punctuation))\n",
    "    \n",
    "    def remove_stopwords(self, text):\n",
    "        words = text.split()\n",
    "        filtered_words = [word for word in words if word.lower() not in self.stop_words]\n",
    "        return ' '.join(filtered_words)\n",
    "    \n",
    "    # Prepare data for logistic regression\n",
    "    \n",
    "    def lemmatize_tokens(self, tokens):\n",
    "        return [self.lemmatizer.lemmatize(token) for token in tokens]\n",
    "\n",
    "    def pos_tag_tokens(self, tokens):\n",
    "        return pos_tag(tokens)\n",
    "\n",
    "    def clean(self, df):\n",
    "        contains_url_udf = udf(self.contains_url, BooleanType())\n",
    "        remove_urls_udf = udf(self.remove_urls, StringType())\n",
    "        process_text_udf = udf(self.process_text, StringType())\n",
    "        remove_punctuation_udf = udf(self.remove_punctuation, StringType())\n",
    "        remove_stopwords_udf = udf(self.remove_stopwords, StringType())\n",
    "        lemmatize_tokens_udf = udf(self.lemmatize_tokens, ArrayType(StringType()))\n",
    "\n",
    "        pos_tag_schema = ArrayType(StructType([\n",
    "            StructField(\"word\", StringType(), False),\n",
    "            StructField(\"pos\", StringType(), False)\n",
    "        ]))\n",
    "\n",
    "        pos_tag_tokens_udf = udf(self.pos_tag_tokens, pos_tag_schema)\n",
    "\n",
    "        # Create a flag column for if a row contains a url\n",
    "        df = df.withColumn(\"contains_url\", contains_url_udf(col(\"text\")))\n",
    "\n",
    "        # Remove urls from the text\n",
    "        df = df.withColumn(\"text\", remove_urls_udf(col(\"text\")))\n",
    "\n",
    "        # Remove the pound sign from hashtags, but split the hashtag into words within the hashtags\n",
    "        df = df.withColumn(\"text\", process_text_udf(col(\"text\")))\n",
    "\n",
    "        # Convert all letters to lowercase\n",
    "        df = df.withColumn(\"text\", lower(col(\"text\")))\n",
    "\n",
    "        # Remove punctuation from the text\n",
    "        df = df.withColumn(\"text\", remove_punctuation_udf(col(\"text\")))\n",
    "\n",
    "        # Remove all words that don't add importance\n",
    "        df = df.withColumn(\"text\", remove_stopwords_udf(col(\"text\")))\n",
    "\n",
    "        # Turn the text into arrays of words\n",
    "        df = df.withColumn(\"token\", split(col(\"text\"), \" \"))\n",
    "\n",
    "        # Break words down with lemmatization\n",
    "        df = df.withColumn(\"token\", lemmatize_tokens_udf(col(\"token\")))\n",
    "\n",
    "        # Tag the parts of speech\n",
    "        df = df.withColumn(\"pos_tag\", pos_tag_tokens_udf(col(\"token\")))\n",
    "        return df"
   ]
  },
  {
   "cell_type": "code",
   "execution_count": 0,
   "metadata": {
    "application/vnd.databricks.v1+cell": {
     "cellMetadata": {
      "byteLimit": 2048000,
      "rowLimit": 10000
     },
     "inputWidgets": {},
     "nuid": "2ab38b41-5822-4c96-a15c-8720d44662f1",
     "showTitle": false,
     "title": ""
    }
   },
   "outputs": [],
   "source": [
    "class MLPipeline:\n",
    "    def __init__(self):\n",
    "        self.tokenizer = Tokenizer(inputCol=\"text\", outputCol=\"words\")\n",
    "        self.vectorizer = CountVectorizer(inputCol=\"words\", outputCol=\"raw_features\")\n",
    "        self.idf = IDF(inputCol=\"raw_features\", outputCol=\"features\")\n",
    "        self.indexer = StringIndexer(inputCol=\"target\", outputCol=\"label\")\n",
    "        self.lr = LogisticRegression(featuresCol=\"features\", labelCol=\"label\")\n",
    "        self.pipeline = Pipeline(stages=[self.tokenizer, self.vectorizer, self.idf, self.indexer, self.lr])\n",
    "        self.model = None\n",
    "\n",
    "    def train_and_evaluate(self, df):\n",
    "        train_df, test_df = df.randomSplit([0.8, 0.2], seed=12345)\n",
    "\n",
    "        # Hyperparameter Tuning\n",
    "        paramGrid = ParamGridBuilder().addGrid(self.vectorizer.vocabSize, [1000, 5000, 10000]).addGrid(self.lr.regParam, [0.1, 0.01]).build()\n",
    "\n",
    "        evaluator = MulticlassClassificationEvaluator(labelCol=\"label\", predictionCol=\"prediction\", metricName=\"accuracy\")\n",
    "\n",
    "        # Cross Validation\n",
    "        crossval = CrossValidator(estimator=self.pipeline,\n",
    "                                  estimatorParamMaps=paramGrid,\n",
    "                                  evaluator=evaluator,\n",
    "                                  numFolds=3,\n",
    "                                  parallelism=2)\n",
    "\n",
    "        spark.conf.set(\"spark.databricks.widget.display\", \"false\")\n",
    "\n",
    "        self.model = crossval.fit(train_df)\n",
    "        predictions = self.model.transform(test_df)\n",
    "\n",
    "        # Evaluate\n",
    "        accuracy = evaluator.evaluate(predictions)\n",
    "        print(f\"Cross-validated accuracy: {accuracy}\")\n",
    "\n",
    "        self.display_confusion_matrix(predictions)\n",
    "\n",
    "        self.display_top_words()\n",
    "        return self.model\n",
    "\n",
    "    def predict(self, df):\n",
    "        if self.model is None:\n",
    "            raise ValueError(\"Model is not trained. Call train_and_evaluate first.\")\n",
    "        predictions = self.model.transform(df)\n",
    "        return predictions\n",
    "    \n",
    "    def display_confusion_matrix(self, predictions):\n",
    "        pandas_df = predictions.select(\"label\", \"prediction\").toPandas()\n",
    "\n",
    "        y_true = pandas_df[\"label\"]\n",
    "        y_pred = pandas_df[\"prediction\"]\n",
    "        cm = confusion_matrix(y_true, y_pred)\n",
    "\n",
    "        plt.figure(figsize=(10, 7))\n",
    "        sns.heatmap(cm, annot=True, fmt=\"d\", cmap=\"Blues\", xticklabels=[\"Negative\", \"Positive\"], yticklabels=[\"Negative\", \"Positive\"])\n",
    "        plt.xlabel(\"Predicted\")\n",
    "        plt.ylabel(\"Actual\")\n",
    "        plt.title(\"Confusion Matrix Heatmap\")\n",
    "        plt.show()\n",
    "        \n",
    "    def display_top_words(self):\n",
    "        # Extract feature importances\n",
    "        coefficients = self.model.bestModel.stages[-1].coefficients.toArray()\n",
    "        vocab = self.model.bestModel.stages[1].vocabulary\n",
    "\n",
    "        word_coefficients = [(vocab[i], coefficients[i]) for i in range(len(vocab))]\n",
    "        word_coefficients = sorted(word_coefficients, key=lambda x: x[1], reverse=True)\n",
    "\n",
    "        print(\"Top words associated with target=1:\")\n",
    "        for word, coef in word_coefficients[:10]:\n",
    "            print(f\"{word}: {coef}\")"
   ]
  },
  {
   "cell_type": "code",
   "execution_count": 0,
   "metadata": {
    "application/vnd.databricks.v1+cell": {
     "cellMetadata": {
      "byteLimit": 2048000,
      "rowLimit": 10000
     },
     "inputWidgets": {},
     "nuid": "064e65b1-053c-4eba-a5d1-ea211e7a138e",
     "showTitle": false,
     "title": ""
    }
   },
   "outputs": [
    {
     "output_type": "display_data",
     "data": {
      "text/html": [
       "<style scoped>\n",
       "  .table-result-container {\n",
       "    max-height: 300px;\n",
       "    overflow: auto;\n",
       "  }\n",
       "  table, th, td {\n",
       "    border: 1px solid black;\n",
       "    border-collapse: collapse;\n",
       "  }\n",
       "  th, td {\n",
       "    padding: 5px;\n",
       "  }\n",
       "  th {\n",
       "    text-align: left;\n",
       "  }\n",
       "</style><div class='table-result-container'><table class='table-result'><thead style='background-color: white'><tr><th>id</th><th>keyword</th><th>location</th><th>text</th><th>target</th><th>contains_url</th><th>token</th><th>pos_tag</th></tr></thead><tbody><tr><td>1</td><td>null</td><td>null</td><td>deeds reason may allah forgive us earthquake</td><td>1</td><td>false</td><td>List(deed, reason, may, allah, forgive, u, earthquake)</td><td>List(List(deed, VB), List(reason, NN), List(may, MD), List(allah, VB), List(forgive, JJ), List(u, JJ), List(earthquake, NN))</td></tr><tr><td>4</td><td>null</td><td>null</td><td>forest fire near la ronge sask canada</td><td>1</td><td>false</td><td>List(forest, fire, near, la, ronge, sask, canada)</td><td>List(List(forest, JJS), List(fire, NN), List(near, IN), List(la, JJ), List(ronge, NN), List(sask, NN), List(canada, NN))</td></tr><tr><td>5</td><td>null</td><td>null</td><td>residents asked shelter place notified officers evacuation shelter place orders expected</td><td>1</td><td>false</td><td>List(resident, asked, shelter, place, notified, officer, evacuation, shelter, place, order, expected)</td><td>List(List(resident, NN), List(asked, VBD), List(shelter, JJ), List(place, NN), List(notified, JJ), List(officer, NN), List(evacuation, NN), List(shelter, NN), List(place, NN), List(order, NN), List(expected, VBD))</td></tr><tr><td>6</td><td>null</td><td>null</td><td>13000 people receive evacuation orders california wildfire</td><td>1</td><td>false</td><td>List(13000, people, receive, evacuation, order, california, wildfire)</td><td>List(List(13000, CD), List(people, NNS), List(receive, JJ), List(evacuation, NN), List(order, NN), List(california, NN), List(wildfire, NN))</td></tr><tr><td>7</td><td>null</td><td>null</td><td>got sent photo ruby smoke pours school alas ka wildfire</td><td>1</td><td>false</td><td>List(got, sent, photo, ruby, smoke, pours, school, ala, ka, wildfire)</td><td>List(List(got, VBD), List(sent, JJ), List(photo, NN), List(ruby, NN), List(smoke, NN), List(pours, VBZ), List(school, NN), List(ala, NN), List(ka, NN), List(wildfire, NN))</td></tr><tr><td>8</td><td>null</td><td>null</td><td>update california hwy 20 closed directions due lake county fire rocky fire c afire wildfire</td><td>1</td><td>false</td><td>List(update, california, hwy, 20, closed, direction, due, lake, county, fire, rocky, fire, c, afire, wildfire)</td><td>List(List(update, JJ), List(california, NN), List(hwy, NN), List(20, CD), List(closed, JJ), List(direction, NN), List(due, JJ), List(lake, VBP), List(county, JJ), List(fire, NN), List(rocky, JJ), List(fire, NN), List(c, NN), List(afire, NN), List(wildfire, NN))</td></tr><tr><td>10</td><td>null</td><td>null</td><td>heavy rain causes flash flooding streets manitou colorado springs areas flood disaster</td><td>1</td><td>false</td><td>List(heavy, rain, cause, flash, flooding, street, manitou, colorado, spring, area, flood, disaster)</td><td>List(List(heavy, JJ), List(rain, NN), List(cause, NN), List(flash, NN), List(flooding, VBG), List(street, NN), List(manitou, NNS), List(colorado, VBP), List(spring, NN), List(area, NN), List(flood, NN), List(disaster, NN))</td></tr><tr><td>13</td><td>null</td><td>null</td><td>im top hill see fire woods</td><td>1</td><td>false</td><td>List(im, top, hill, see, fire, wood)</td><td>List(List(im, NN), List(top, NN), List(hill, NN), List(see, VBP), List(fire, NN), List(wood, NN))</td></tr><tr><td>14</td><td>null</td><td>null</td><td>theres emergency evacuation happening building across street</td><td>1</td><td>false</td><td>List(there, emergency, evacuation, happening, building, across, street)</td><td>List(List(there, RB), List(emergency, NN), List(evacuation, NN), List(happening, VBG), List(building, NN), List(across, IN), List(street, NN))</td></tr><tr><td>15</td><td>null</td><td>null</td><td>im afraid tornado coming area</td><td>1</td><td>false</td><td>List(im, afraid, tornado, coming, area)</td><td>List(List(im, NN), List(afraid, JJ), List(tornado, NN), List(coming, VBG), List(area, NN))</td></tr><tr><td>16</td><td>null</td><td>null</td><td>three people died heat wave far</td><td>1</td><td>false</td><td>List(three, people, died, heat, wave, far)</td><td>List(List(three, CD), List(people, NNS), List(died, VBD), List(heat, NN), List(wave, NN), List(far, RB))</td></tr><tr><td>17</td><td>null</td><td>null</td><td>haha south tampa getting flooded hah wait second live south tampa gonna gonna fvck flooding</td><td>1</td><td>false</td><td>List(haha, south, tampa, getting, flooded, hah, wait, second, live, south, tampa, gonna, gonna, fvck, flooding)</td><td>List(List(haha, NN), List(south, NN), List(tampa, IN), List(getting, VBG), List(flooded, VBN), List(hah, JJ), List(wait, JJ), List(second, JJ), List(live, JJ), List(south, NN), List(tampa, JJ), List(gonna, NN), List(gonna, NN), List(fvck, NN), List(flooding, NN))</td></tr><tr><td>18</td><td>null</td><td>null</td><td>18 19 days ive lost count rain ing flooding florid tam pa bay tam pa</td><td>1</td><td>false</td><td>List(18, 19, day, ive, lost, count, rain, ing, flooding, florid, tam, pa, bay, tam, pa)</td><td>List(List(18, CD), List(19, CD), List(day, NN), List(ive, JJ), List(lost, VBN), List(count, NN), List(rain, NN), List(ing, VBG), List(flooding, VBG), List(florid, JJ), List(tam, NN), List(pa, NN), List(bay, NN), List(tam, NN), List(pa, NN))</td></tr><tr><td>19</td><td>null</td><td>null</td><td>bago myanmar arrived bago flood</td><td>1</td><td>false</td><td>List(bago, myanmar, arrived, bago, flood)</td><td>List(List(bago, RB), List(myanmar, NN), List(arrived, VBD), List(bago, RB), List(flood, NN))</td></tr><tr><td>20</td><td>null</td><td>null</td><td>damage school bus 80 multi car crash breaking</td><td>1</td><td>false</td><td>List(damage, school, bus, 80, multi, car, crash, breaking)</td><td>List(List(damage, NN), List(school, NN), List(bus, NN), List(80, CD), List(multi, NN), List(car, NN), List(crash, NN), List(breaking, NN))</td></tr><tr><td>23</td><td>null</td><td>null</td><td>whats man</td><td>0</td><td>false</td><td>List(whats, man)</td><td>List(List(whats, NNS), List(man, NN))</td></tr><tr><td>24</td><td>null</td><td>null</td><td>love fruits</td><td>0</td><td>false</td><td>List(love, fruit)</td><td>List(List(love, NN), List(fruit, NN))</td></tr><tr><td>25</td><td>null</td><td>null</td><td>summer lovely</td><td>0</td><td>false</td><td>List(summer, lovely)</td><td>List(List(summer, NN), List(lovely, RB))</td></tr><tr><td>26</td><td>null</td><td>null</td><td>car fast</td><td>0</td><td>false</td><td>List(car, fast)</td><td>List(List(car, NN), List(fast, NN))</td></tr><tr><td>28</td><td>null</td><td>null</td><td>goooooooaaaaaal</td><td>0</td><td>false</td><td>List(goooooooaaaaaal)</td><td>List(List(goooooooaaaaaal, NN))</td></tr></tbody></table></div>"
      ]
     },
     "metadata": {
      "application/vnd.databricks.v1+output": {
       "addedWidgets": {},
       "aggData": [],
       "aggError": "",
       "aggOverflow": false,
       "aggSchema": [],
       "aggSeriesLimitReached": false,
       "aggType": "",
       "arguments": {},
       "columnCustomDisplayInfos": {},
       "data": [
        [
         "1",
         null,
         null,
         "deeds reason may allah forgive us earthquake",
         "1",
         false,
         [
          "deed",
          "reason",
          "may",
          "allah",
          "forgive",
          "u",
          "earthquake"
         ],
         [
          [
           "deed",
           "VB"
          ],
          [
           "reason",
           "NN"
          ],
          [
           "may",
           "MD"
          ],
          [
           "allah",
           "VB"
          ],
          [
           "forgive",
           "JJ"
          ],
          [
           "u",
           "JJ"
          ],
          [
           "earthquake",
           "NN"
          ]
         ]
        ],
        [
         "4",
         null,
         null,
         "forest fire near la ronge sask canada",
         "1",
         false,
         [
          "forest",
          "fire",
          "near",
          "la",
          "ronge",
          "sask",
          "canada"
         ],
         [
          [
           "forest",
           "JJS"
          ],
          [
           "fire",
           "NN"
          ],
          [
           "near",
           "IN"
          ],
          [
           "la",
           "JJ"
          ],
          [
           "ronge",
           "NN"
          ],
          [
           "sask",
           "NN"
          ],
          [
           "canada",
           "NN"
          ]
         ]
        ],
        [
         "5",
         null,
         null,
         "residents asked shelter place notified officers evacuation shelter place orders expected",
         "1",
         false,
         [
          "resident",
          "asked",
          "shelter",
          "place",
          "notified",
          "officer",
          "evacuation",
          "shelter",
          "place",
          "order",
          "expected"
         ],
         [
          [
           "resident",
           "NN"
          ],
          [
           "asked",
           "VBD"
          ],
          [
           "shelter",
           "JJ"
          ],
          [
           "place",
           "NN"
          ],
          [
           "notified",
           "JJ"
          ],
          [
           "officer",
           "NN"
          ],
          [
           "evacuation",
           "NN"
          ],
          [
           "shelter",
           "NN"
          ],
          [
           "place",
           "NN"
          ],
          [
           "order",
           "NN"
          ],
          [
           "expected",
           "VBD"
          ]
         ]
        ],
        [
         "6",
         null,
         null,
         "13000 people receive evacuation orders california wildfire",
         "1",
         false,
         [
          "13000",
          "people",
          "receive",
          "evacuation",
          "order",
          "california",
          "wildfire"
         ],
         [
          [
           "13000",
           "CD"
          ],
          [
           "people",
           "NNS"
          ],
          [
           "receive",
           "JJ"
          ],
          [
           "evacuation",
           "NN"
          ],
          [
           "order",
           "NN"
          ],
          [
           "california",
           "NN"
          ],
          [
           "wildfire",
           "NN"
          ]
         ]
        ],
        [
         "7",
         null,
         null,
         "got sent photo ruby smoke pours school alas ka wildfire",
         "1",
         false,
         [
          "got",
          "sent",
          "photo",
          "ruby",
          "smoke",
          "pours",
          "school",
          "ala",
          "ka",
          "wildfire"
         ],
         [
          [
           "got",
           "VBD"
          ],
          [
           "sent",
           "JJ"
          ],
          [
           "photo",
           "NN"
          ],
          [
           "ruby",
           "NN"
          ],
          [
           "smoke",
           "NN"
          ],
          [
           "pours",
           "VBZ"
          ],
          [
           "school",
           "NN"
          ],
          [
           "ala",
           "NN"
          ],
          [
           "ka",
           "NN"
          ],
          [
           "wildfire",
           "NN"
          ]
         ]
        ],
        [
         "8",
         null,
         null,
         "update california hwy 20 closed directions due lake county fire rocky fire c afire wildfire",
         "1",
         false,
         [
          "update",
          "california",
          "hwy",
          "20",
          "closed",
          "direction",
          "due",
          "lake",
          "county",
          "fire",
          "rocky",
          "fire",
          "c",
          "afire",
          "wildfire"
         ],
         [
          [
           "update",
           "JJ"
          ],
          [
           "california",
           "NN"
          ],
          [
           "hwy",
           "NN"
          ],
          [
           "20",
           "CD"
          ],
          [
           "closed",
           "JJ"
          ],
          [
           "direction",
           "NN"
          ],
          [
           "due",
           "JJ"
          ],
          [
           "lake",
           "VBP"
          ],
          [
           "county",
           "JJ"
          ],
          [
           "fire",
           "NN"
          ],
          [
           "rocky",
           "JJ"
          ],
          [
           "fire",
           "NN"
          ],
          [
           "c",
           "NN"
          ],
          [
           "afire",
           "NN"
          ],
          [
           "wildfire",
           "NN"
          ]
         ]
        ],
        [
         "10",
         null,
         null,
         "heavy rain causes flash flooding streets manitou colorado springs areas flood disaster",
         "1",
         false,
         [
          "heavy",
          "rain",
          "cause",
          "flash",
          "flooding",
          "street",
          "manitou",
          "colorado",
          "spring",
          "area",
          "flood",
          "disaster"
         ],
         [
          [
           "heavy",
           "JJ"
          ],
          [
           "rain",
           "NN"
          ],
          [
           "cause",
           "NN"
          ],
          [
           "flash",
           "NN"
          ],
          [
           "flooding",
           "VBG"
          ],
          [
           "street",
           "NN"
          ],
          [
           "manitou",
           "NNS"
          ],
          [
           "colorado",
           "VBP"
          ],
          [
           "spring",
           "NN"
          ],
          [
           "area",
           "NN"
          ],
          [
           "flood",
           "NN"
          ],
          [
           "disaster",
           "NN"
          ]
         ]
        ],
        [
         "13",
         null,
         null,
         "im top hill see fire woods",
         "1",
         false,
         [
          "im",
          "top",
          "hill",
          "see",
          "fire",
          "wood"
         ],
         [
          [
           "im",
           "NN"
          ],
          [
           "top",
           "NN"
          ],
          [
           "hill",
           "NN"
          ],
          [
           "see",
           "VBP"
          ],
          [
           "fire",
           "NN"
          ],
          [
           "wood",
           "NN"
          ]
         ]
        ],
        [
         "14",
         null,
         null,
         "theres emergency evacuation happening building across street",
         "1",
         false,
         [
          "there",
          "emergency",
          "evacuation",
          "happening",
          "building",
          "across",
          "street"
         ],
         [
          [
           "there",
           "RB"
          ],
          [
           "emergency",
           "NN"
          ],
          [
           "evacuation",
           "NN"
          ],
          [
           "happening",
           "VBG"
          ],
          [
           "building",
           "NN"
          ],
          [
           "across",
           "IN"
          ],
          [
           "street",
           "NN"
          ]
         ]
        ],
        [
         "15",
         null,
         null,
         "im afraid tornado coming area",
         "1",
         false,
         [
          "im",
          "afraid",
          "tornado",
          "coming",
          "area"
         ],
         [
          [
           "im",
           "NN"
          ],
          [
           "afraid",
           "JJ"
          ],
          [
           "tornado",
           "NN"
          ],
          [
           "coming",
           "VBG"
          ],
          [
           "area",
           "NN"
          ]
         ]
        ],
        [
         "16",
         null,
         null,
         "three people died heat wave far",
         "1",
         false,
         [
          "three",
          "people",
          "died",
          "heat",
          "wave",
          "far"
         ],
         [
          [
           "three",
           "CD"
          ],
          [
           "people",
           "NNS"
          ],
          [
           "died",
           "VBD"
          ],
          [
           "heat",
           "NN"
          ],
          [
           "wave",
           "NN"
          ],
          [
           "far",
           "RB"
          ]
         ]
        ],
        [
         "17",
         null,
         null,
         "haha south tampa getting flooded hah wait second live south tampa gonna gonna fvck flooding",
         "1",
         false,
         [
          "haha",
          "south",
          "tampa",
          "getting",
          "flooded",
          "hah",
          "wait",
          "second",
          "live",
          "south",
          "tampa",
          "gonna",
          "gonna",
          "fvck",
          "flooding"
         ],
         [
          [
           "haha",
           "NN"
          ],
          [
           "south",
           "NN"
          ],
          [
           "tampa",
           "IN"
          ],
          [
           "getting",
           "VBG"
          ],
          [
           "flooded",
           "VBN"
          ],
          [
           "hah",
           "JJ"
          ],
          [
           "wait",
           "JJ"
          ],
          [
           "second",
           "JJ"
          ],
          [
           "live",
           "JJ"
          ],
          [
           "south",
           "NN"
          ],
          [
           "tampa",
           "JJ"
          ],
          [
           "gonna",
           "NN"
          ],
          [
           "gonna",
           "NN"
          ],
          [
           "fvck",
           "NN"
          ],
          [
           "flooding",
           "NN"
          ]
         ]
        ],
        [
         "18",
         null,
         null,
         "18 19 days ive lost count rain ing flooding florid tam pa bay tam pa",
         "1",
         false,
         [
          "18",
          "19",
          "day",
          "ive",
          "lost",
          "count",
          "rain",
          "ing",
          "flooding",
          "florid",
          "tam",
          "pa",
          "bay",
          "tam",
          "pa"
         ],
         [
          [
           "18",
           "CD"
          ],
          [
           "19",
           "CD"
          ],
          [
           "day",
           "NN"
          ],
          [
           "ive",
           "JJ"
          ],
          [
           "lost",
           "VBN"
          ],
          [
           "count",
           "NN"
          ],
          [
           "rain",
           "NN"
          ],
          [
           "ing",
           "VBG"
          ],
          [
           "flooding",
           "VBG"
          ],
          [
           "florid",
           "JJ"
          ],
          [
           "tam",
           "NN"
          ],
          [
           "pa",
           "NN"
          ],
          [
           "bay",
           "NN"
          ],
          [
           "tam",
           "NN"
          ],
          [
           "pa",
           "NN"
          ]
         ]
        ],
        [
         "19",
         null,
         null,
         "bago myanmar arrived bago flood",
         "1",
         false,
         [
          "bago",
          "myanmar",
          "arrived",
          "bago",
          "flood"
         ],
         [
          [
           "bago",
           "RB"
          ],
          [
           "myanmar",
           "NN"
          ],
          [
           "arrived",
           "VBD"
          ],
          [
           "bago",
           "RB"
          ],
          [
           "flood",
           "NN"
          ]
         ]
        ],
        [
         "20",
         null,
         null,
         "damage school bus 80 multi car crash breaking",
         "1",
         false,
         [
          "damage",
          "school",
          "bus",
          "80",
          "multi",
          "car",
          "crash",
          "breaking"
         ],
         [
          [
           "damage",
           "NN"
          ],
          [
           "school",
           "NN"
          ],
          [
           "bus",
           "NN"
          ],
          [
           "80",
           "CD"
          ],
          [
           "multi",
           "NN"
          ],
          [
           "car",
           "NN"
          ],
          [
           "crash",
           "NN"
          ],
          [
           "breaking",
           "NN"
          ]
         ]
        ],
        [
         "23",
         null,
         null,
         "whats man",
         "0",
         false,
         [
          "whats",
          "man"
         ],
         [
          [
           "whats",
           "NNS"
          ],
          [
           "man",
           "NN"
          ]
         ]
        ],
        [
         "24",
         null,
         null,
         "love fruits",
         "0",
         false,
         [
          "love",
          "fruit"
         ],
         [
          [
           "love",
           "NN"
          ],
          [
           "fruit",
           "NN"
          ]
         ]
        ],
        [
         "25",
         null,
         null,
         "summer lovely",
         "0",
         false,
         [
          "summer",
          "lovely"
         ],
         [
          [
           "summer",
           "NN"
          ],
          [
           "lovely",
           "RB"
          ]
         ]
        ],
        [
         "26",
         null,
         null,
         "car fast",
         "0",
         false,
         [
          "car",
          "fast"
         ],
         [
          [
           "car",
           "NN"
          ],
          [
           "fast",
           "NN"
          ]
         ]
        ],
        [
         "28",
         null,
         null,
         "goooooooaaaaaal",
         "0",
         false,
         [
          "goooooooaaaaaal"
         ],
         [
          [
           "goooooooaaaaaal",
           "NN"
          ]
         ]
        ]
       ],
       "datasetInfos": [],
       "dbfsResultPath": null,
       "isJsonSchema": true,
       "metadata": {},
       "overflow": false,
       "plotOptions": {
        "customPlotOptions": {},
        "displayType": "table",
        "pivotAggregation": null,
        "pivotColumns": null,
        "xColumns": null,
        "yColumns": null
       },
       "removedWidgets": [],
       "schema": [
        {
         "metadata": "{}",
         "name": "id",
         "type": "\"string\""
        },
        {
         "metadata": "{}",
         "name": "keyword",
         "type": "\"string\""
        },
        {
         "metadata": "{}",
         "name": "location",
         "type": "\"string\""
        },
        {
         "metadata": "{}",
         "name": "text",
         "type": "\"string\""
        },
        {
         "metadata": "{}",
         "name": "target",
         "type": "\"string\""
        },
        {
         "metadata": "{}",
         "name": "contains_url",
         "type": "\"boolean\""
        },
        {
         "metadata": "{}",
         "name": "token",
         "type": "{\"type\":\"array\",\"elementType\":\"string\",\"containsNull\":true}"
        },
        {
         "metadata": "{}",
         "name": "pos_tag",
         "type": "{\"type\":\"array\",\"elementType\":{\"type\":\"struct\",\"fields\":[{\"name\":\"word\",\"type\":\"string\",\"nullable\":false,\"metadata\":{}},{\"name\":\"pos\",\"type\":\"string\",\"nullable\":false,\"metadata\":{}}]},\"containsNull\":true}"
        }
       ],
       "type": "table"
      }
     },
     "output_type": "display_data"
    },
    {
     "output_type": "display_data",
     "data": {
      "application/vnd.jupyter.widget-view+json": {
       "model_id": "24c781cf721c450aafb605d84f3a510a",
       "version_major": 2,
       "version_minor": 0
      },
      "text/plain": [
       "Downloading artifacts:   0%|          | 0/50 [00:00<?, ?it/s]"
      ]
     },
     "metadata": {},
     "output_type": "display_data"
    },
    {
     "output_type": "display_data",
     "data": {
      "application/vnd.jupyter.widget-view+json": {
       "model_id": "02d9878650224163aef2ae7b9c7a865b",
       "version_major": 2,
       "version_minor": 0
      },
      "text/plain": [
       "Uploading artifacts:   0%|          | 0/4 [00:00<?, ?it/s]"
      ]
     },
     "metadata": {},
     "output_type": "display_data"
    },
    {
     "output_type": "display_data",
     "data": {
      "application/vnd.jupyter.widget-view+json": {
       "model_id": "7dc66c0300464e89b58573dc43b757b1",
       "version_major": 2,
       "version_minor": 0
      },
      "text/plain": [
       "Downloading artifacts:   0%|          | 0/32 [00:00<?, ?it/s]"
      ]
     },
     "metadata": {},
     "output_type": "display_data"
    },
    {
     "output_type": "display_data",
     "data": {
      "application/vnd.jupyter.widget-view+json": {
       "model_id": "710f521b34524298b779537d228b153b",
       "version_major": 2,
       "version_minor": 0
      },
      "text/plain": [
       "Uploading artifacts:   0%|          | 0/4 [00:00<?, ?it/s]"
      ]
     },
     "metadata": {},
     "output_type": "display_data"
    },
    {
     "output_type": "display_data",
     "data": {
      "image/png": "[encoded data removed]",
      "text/plain": [
       "<Figure size 1000x700 with 2 Axes>"
      ]
     },
     "metadata": {},
     "output_type": "display_data"
    },
    {
     "output_type": "stream",
     "name": "stdout",
     "output_type": "stream",
     "text": [
      "Cross-validated accuracy: 0.7927170868347339\nTop words associated with target=1:\ntyphoon: 0.28372028363533985\nearthquake: 0.25531091412629103\nevacuated: 0.24637390725287062\nderailment: 0.23643637796405498\nbombing: 0.2357077340159286\nfires: 0.2331462612123163\nwildfire: 0.23005589459353892\nhiroshima: 0.22915260377900765\npoor: 0.22824856896042237\ncasualties: 0.22399488037028473\n"
     ]
    }
   ],
   "source": [
    "cleaner = data_cleaning(broadcast_stop_words, broadcast_word_list)\n",
    "ml_pipeline = MLPipeline()\n",
    "\n",
    "# Clean the data\n",
    "cleaned_train_df = cleaner.clean(train_df)\n",
    "cleaned_test_df = cleaner.clean(test_df)\n",
    "\n",
    "display(cleaned_train_df.limit(20))\n",
    "\n",
    "model = ml_pipeline.train_and_evaluate(cleaned_train_df)"
   ]
  },
  {
   "cell_type": "code",
   "execution_count": 0,
   "metadata": {
    "application/vnd.databricks.v1+cell": {
     "cellMetadata": {
      "byteLimit": 2048000,
      "rowLimit": 10000
     },
     "inputWidgets": {},
     "nuid": "5bc04b4b-417f-4418-ae7e-cce592068568",
     "showTitle": false,
     "title": ""
    }
   },
   "outputs": [],
   "source": [
    "# predictions = ml_pipeline.predict(cleaned_test_df)\n",
    "\n",
    "# predictions_final = predictions.withColumnRenamed('prediction', 'target').select('id', 'target')\n",
    "# display(predictions_final)"
   ]
  },
  {
   "cell_type": "code",
   "execution_count": 0,
   "metadata": {
    "application/vnd.databricks.v1+cell": {
     "cellMetadata": {
      "byteLimit": 2048000,
      "rowLimit": 10000
     },
     "inputWidgets": {},
     "nuid": "9d71de52-b066-4708-b1d4-419d2540f789",
     "showTitle": false,
     "title": ""
    }
   },
   "outputs": [],
   "source": []
  }
 ],
 "metadata": {
  "application/vnd.databricks.v1+notebook": {
   "dashboards": [],
   "environmentMetadata": null,
   "language": "python",
   "notebookMetadata": {
    "pythonIndentUnit": 4
   },
   "notebookName": "Tweet_Classification_with_NLP",
   "widgets": {}
  }
 },
 "nbformat": 4,
 "nbformat_minor": 0
}
